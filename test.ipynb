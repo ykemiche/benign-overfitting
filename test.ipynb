{
 "cells": [
  {
   "cell_type": "code",
   "execution_count": 1,
   "metadata": {},
   "outputs": [
    {
     "name": "stderr",
     "output_type": "stream",
     "text": [
      "/home/infres/ext-6343/venv_boverfitting/lib64/python3.8/site-packages/tqdm/auto.py:22: TqdmWarning: IProgress not found. Please update jupyter and ipywidgets. See https://ipywidgets.readthedocs.io/en/stable/user_install.html\n",
      "  from .autonotebook import tqdm as notebook_tqdm\n"
     ]
    }
   ],
   "source": [
    "from ast import arg\n",
    "import torch\n",
    "import os\n",
    "import time\n",
    "from models.neural_network import *\n",
    "import numpy as np\n",
    "from torch.utils.data import Dataset,DataLoader,SubsetRandomSampler\n",
    "import math\n",
    "import argparse\n",
    "from glob import glob\n",
    "import pandas as pd\n",
    "from tqdm import tqdm\n",
    "from utils import *\n",
    "import json\n",
    "from sklearn.model_selection import train_test_split\n",
    "import matplotlib.pyplot as plt\n",
    "from scipy.io.arff import loadarff\n",
    "from Dataset import *\n",
    "\n",
    "device = torch.cuda.set_device(0)\n"
   ]
  },
  {
   "cell_type": "code",
   "execution_count": 34,
   "metadata": {},
   "outputs": [],
   "source": [
    "\n",
    "data = loadarff('/home/infres/ext-6343/venv_boverfitting/benign-overfitting/data/BNG_wine_quality.arff')\n",
    "raw_dataset = pd.DataFrame(data[0])\n",
    "dataset = raw_dataset.copy()\n",
    "dataset=dataset.sample(frac=1)[0:10000]\n",
    "\n",
    "dataset = dataset.dropna()\n",
    "dataset=(dataset-dataset.mean())/dataset.std()\n",
    "dataset=dataset.iloc[0:380,:]\n",
    "train_features = dataset.copy()\n",
    "train_labels = train_features.pop('quality')"
   ]
  },
  {
   "cell_type": "code",
   "execution_count": 11,
   "metadata": {},
   "outputs": [],
   "source": [
    "url = 'http://archive.ics.uci.edu/ml/machine-learning-databases/auto-mpg/auto-mpg.data'\n",
    "column_names = ['MPG', 'Cylinders', 'Displacement', 'Horsepower', 'Weight',\n",
    "                'Acceleration', 'Model Year', 'Origin']\n",
    "\n",
    "raw_dataset = pd.read_csv(url, names=column_names,\n",
    "                        na_values='?', comment='\\t',\n",
    "                        sep=' ', skipinitialspace=True) \n",
    "dataset = raw_dataset.copy()\n",
    "dataset = dataset.dropna()\n",
    "dataset['Origin'] = dataset['Origin'].map({1: 'USA', 2: 'Europe', 3: 'Japan'})\n",
    "dataset = pd.get_dummies(dataset, columns=['Origin'], prefix='', prefix_sep='')\n",
    "\n",
    "dataset=(dataset-dataset.mean())/dataset.std()\n",
    "\n",
    "train_features = dataset.copy()\n",
    "train_labels = train_features.pop('MPG')\n",
    "# train_features=(train_features-train_features.mean())/train_features.std()\n"
   ]
  },
  {
   "cell_type": "code",
   "execution_count": 35,
   "metadata": {},
   "outputs": [],
   "source": [
    "X_train, X_test, y_train, y_test = train_test_split(train_features,train_labels)\n",
    "\n",
    "X_train_list = torch.Tensor(X_train.values.astype(np.float32))\n",
    "X_train_list=X_train_list.to(device)\n",
    "\n",
    "y_train_list = torch.Tensor(y_train.values.astype(np.float32)).view(y_train.shape)\n",
    "y_train_list=y_train_list.to(device)\n",
    "\n",
    "X_test_list = torch.Tensor(X_test.values.astype(np.float32))\n",
    "X_test_list=X_test_list.to(device)\n",
    "\n",
    "y_test_list = torch.Tensor(y_test.values.astype(np.float32)).view(y_test.shape)\n",
    "y_test_list=y_test_list.to(device)"
   ]
  },
  {
   "cell_type": "code",
   "execution_count": 36,
   "metadata": {},
   "outputs": [],
   "source": [
    "model=NN(11,1,3000)\n",
    "model.to(device)\n",
    "\n",
    "fnet, params ,buffers =make_functional_with_buffers(model)\n"
   ]
  },
  {
   "cell_type": "code",
   "execution_count": 37,
   "metadata": {},
   "outputs": [
    {
     "name": "stdout",
     "output_type": "stream",
     "text": [
      "1.0122417211532593\n"
     ]
    }
   ],
   "source": [
    "torch.cuda.empty_cache()\n",
    "loss_fn = torch.nn.MSELoss() \n",
    "try:\n",
    "    test_kernel_predicted=compute_kxkny(X_train_list,X_test_list,y_train_list,params,buffers,fnet)\n",
    "    test_kernel_loss=loss_fn(test_kernel_predicted.reshape(y_test_list.shape[0]), y_test_list)\n",
    "    print(test_kernel_loss.item())\n",
    "except Exception as e:\n",
    "    print(e)"
   ]
  },
  {
   "cell_type": "code",
   "execution_count": 39,
   "metadata": {},
   "outputs": [
    {
     "data": {
      "text/plain": [
       "tensor([[-1.2018],\n",
       "        [ 1.0171],\n",
       "        [ 0.1097],\n",
       "        [-0.8421],\n",
       "        [-0.4836],\n",
       "        [-1.0002],\n",
       "        [-0.9008],\n",
       "        [-0.5821],\n",
       "        [-0.1199],\n",
       "        [ 0.7260],\n",
       "        [-0.0412],\n",
       "        [-1.1562],\n",
       "        [-0.6832],\n",
       "        [ 0.6050],\n",
       "        [ 0.8293],\n",
       "        [ 0.0574],\n",
       "        [-0.9808],\n",
       "        [-0.4882],\n",
       "        [-0.8950],\n",
       "        [ 0.6186],\n",
       "        [ 0.6180],\n",
       "        [-0.2728],\n",
       "        [-0.2877],\n",
       "        [ 0.4857],\n",
       "        [ 0.5935],\n",
       "        [ 0.7342],\n",
       "        [ 0.4671],\n",
       "        [ 1.3508],\n",
       "        [ 0.1545],\n",
       "        [-0.2894],\n",
       "        [ 0.4507],\n",
       "        [-1.0716],\n",
       "        [-0.0062],\n",
       "        [ 0.6746],\n",
       "        [ 0.0541],\n",
       "        [-0.1667],\n",
       "        [ 0.0502],\n",
       "        [-0.2523],\n",
       "        [-0.6103],\n",
       "        [ 0.0806],\n",
       "        [-0.3968],\n",
       "        [ 0.7478],\n",
       "        [-0.1237],\n",
       "        [-1.3018],\n",
       "        [ 1.0547],\n",
       "        [-0.0735],\n",
       "        [-0.2209],\n",
       "        [-0.1303],\n",
       "        [-0.1956],\n",
       "        [ 0.6249],\n",
       "        [ 1.1650],\n",
       "        [ 0.5745],\n",
       "        [-0.0086],\n",
       "        [-0.0254],\n",
       "        [-0.4932],\n",
       "        [-1.3871],\n",
       "        [ 0.5046],\n",
       "        [-0.0175],\n",
       "        [-1.3246],\n",
       "        [ 1.2673],\n",
       "        [ 0.9648],\n",
       "        [-0.5401],\n",
       "        [ 0.8143],\n",
       "        [ 1.1196],\n",
       "        [-0.1930],\n",
       "        [-0.5974],\n",
       "        [-0.5351],\n",
       "        [ 0.3573],\n",
       "        [ 0.3562],\n",
       "        [ 0.4072],\n",
       "        [-0.4890],\n",
       "        [-0.0659],\n",
       "        [-0.7283],\n",
       "        [ 0.9458],\n",
       "        [-0.0029],\n",
       "        [-0.6737],\n",
       "        [-0.1670],\n",
       "        [-0.7485],\n",
       "        [ 0.3070],\n",
       "        [-0.1916],\n",
       "        [ 0.5880],\n",
       "        [-0.6823],\n",
       "        [-0.0280],\n",
       "        [ 0.6363],\n",
       "        [ 0.2222],\n",
       "        [-0.9236],\n",
       "        [-0.6370],\n",
       "        [ 1.4952],\n",
       "        [ 0.9590],\n",
       "        [-1.0377],\n",
       "        [ 0.7406],\n",
       "        [ 0.5902],\n",
       "        [ 0.9510],\n",
       "        [-0.7880],\n",
       "        [-0.0121]], grad_fn=<SubBackward0>)"
      ]
     },
     "execution_count": 39,
     "metadata": {},
     "output_type": "execute_result"
    }
   ],
   "source": [
    "test_kernel_predicted"
   ]
  },
  {
   "cell_type": "code",
   "execution_count": 27,
   "metadata": {},
   "outputs": [
    {
     "data": {
      "text/plain": [
       "tensor([ 1.3526, -0.9354, -0.9354,  1.3526,  0.2086,  0.2086,  1.3526,  0.2086,\n",
       "         1.3526, -0.9354, -1.8838,  0.2086, -0.9354, -0.9354,  0.2086,  0.2086,\n",
       "        -0.9354,  0.2086, -0.9354, -2.1369, -0.9354,  0.2086,  0.2086,  0.2086,\n",
       "        -2.0424,  1.3526, -0.9354,  1.3526,  1.3526, -0.9354,  0.2086, -0.9354,\n",
       "         1.3526,  0.2086, -0.9354,  0.2086, -0.9354, -0.9354, -0.9354,  0.2086,\n",
       "        -0.9354,  0.2086,  0.2086,  0.2086,  0.2086,  1.3526, -0.9354,  0.2086,\n",
       "        -0.9354,  0.2086,  0.2086,  0.2086, -0.9354,  1.3526, -0.9354, -0.9354,\n",
       "         1.3526,  0.2086, -0.9354, -2.8046,  0.2086,  0.2086,  0.2086, -2.8636,\n",
       "         0.2086,  0.2086,  0.2086,  0.2086,  0.2086,  1.3526,  1.3526,  0.2086,\n",
       "         0.2086,  0.2086, -0.9354,  0.2086,  1.3526,  0.2086,  1.3526, -2.0275,\n",
       "        -0.9354, -0.9354,  0.2086,  0.2086,  2.4373, -0.9354,  1.3526, -0.9354,\n",
       "        -0.9354,  1.3526,  0.2086, -0.9354,  0.2086, -0.9354,  0.2086])"
      ]
     },
     "execution_count": 27,
     "metadata": {},
     "output_type": "execute_result"
    }
   ],
   "source": [
    "y_test_list"
   ]
  },
  {
   "cell_type": "code",
   "execution_count": null,
   "metadata": {},
   "outputs": [],
   "source": []
  }
 ],
 "metadata": {
  "kernelspec": {
   "display_name": "Python 3.8.12 ('venv_boverfitting': venv)",
   "language": "python",
   "name": "python3"
  },
  "language_info": {
   "codemirror_mode": {
    "name": "ipython",
    "version": 3
   },
   "file_extension": ".py",
   "mimetype": "text/x-python",
   "name": "python",
   "nbconvert_exporter": "python",
   "pygments_lexer": "ipython3",
   "version": "3.8.12"
  },
  "orig_nbformat": 4,
  "vscode": {
   "interpreter": {
    "hash": "4c8f4082c1d0afe9b849abac9bbd6d250e06ac0d58603f8d6835558836ca300e"
   }
  }
 },
 "nbformat": 4,
 "nbformat_minor": 2
}
